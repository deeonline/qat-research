{
 "cells": [
  {
   "cell_type": "code",
   "execution_count": 50,
   "metadata": {
    "collapsed": false
   },
   "outputs": [],
   "source": [
    "import pandas as pd\n",
    "import seaborn as sns\n",
    "import numpy as np\n",
    "from scipy.stats import chi2_contingency\n",
    "import matplotlib.pyplot as plt\n",
    "from IPython.display import display\n",
    "from scipy.stats import ttest_rel, ttest_ind\n",
    "%matplotlib inline"
   ]
  },
  {
   "cell_type": "markdown",
   "metadata": {},
   "source": [
    "## Read various probabilty tables"
   ]
  },
  {
   "cell_type": "code",
   "execution_count": 6,
   "metadata": {
    "collapsed": true
   },
   "outputs": [],
   "source": [
    "df = pd.DataFrame()\n",
    "files_xls = [\"../ProbTable2009.xlsx\", \"../ProbTable2010.xlsx\"]"
   ]
  },
  {
   "cell_type": "code",
   "execution_count": 7,
   "metadata": {
    "collapsed": false
   },
   "outputs": [],
   "source": [
    "for f in files_xls:\n",
    "    data = pd.read_excel(f, 'Sheet1')\n",
    "    df = df.append(data)"
   ]
  },
  {
   "cell_type": "code",
   "execution_count": 11,
   "metadata": {
    "collapsed": false
   },
   "outputs": [
    {
     "data": {
      "text/html": [
       "<div>\n",
       "<table border=\"1\" class=\"dataframe\">\n",
       "  <thead>\n",
       "    <tr style=\"text-align: right;\">\n",
       "      <th></th>\n",
       "      <th>P(+|-)tick</th>\n",
       "      <th>P(+)tick</th>\n",
       "      <th>P(+|-)1s</th>\n",
       "      <th>P(+)1s</th>\n",
       "      <th>P(+|-)3s</th>\n",
       "      <th>P(+)3s</th>\n",
       "      <th>P(+|-)5s</th>\n",
       "      <th>P(+)5s</th>\n",
       "      <th>P(+|-)10s</th>\n",
       "      <th>P(+)10s</th>\n",
       "      <th>P(+|-)20s</th>\n",
       "      <th>P(+)20s</th>\n",
       "      <th>P(+|-)30s</th>\n",
       "      <th>P(+)30s</th>\n",
       "      <th>P(+|-)1T</th>\n",
       "      <th>P(+)1T</th>\n",
       "      <th>P(+|-)5T</th>\n",
       "      <th>P(+)5T</th>\n",
       "    </tr>\n",
       "  </thead>\n",
       "  <tbody>\n",
       "    <tr>\n",
       "      <th>20101227</th>\n",
       "      <td>0.507582</td>\n",
       "      <td>0.485210</td>\n",
       "      <td>0.625322</td>\n",
       "      <td>0.510298</td>\n",
       "      <td>0.595684</td>\n",
       "      <td>0.508787</td>\n",
       "      <td>0.567832</td>\n",
       "      <td>0.508422</td>\n",
       "      <td>0.552688</td>\n",
       "      <td>0.514867</td>\n",
       "      <td>0.536585</td>\n",
       "      <td>0.508756</td>\n",
       "      <td>0.526462</td>\n",
       "      <td>0.514865</td>\n",
       "      <td>0.505155</td>\n",
       "      <td>0.474255</td>\n",
       "      <td>0.617647</td>\n",
       "      <td>0.534247</td>\n",
       "    </tr>\n",
       "    <tr>\n",
       "      <th>20101228</th>\n",
       "      <td>0.520866</td>\n",
       "      <td>0.486997</td>\n",
       "      <td>0.577957</td>\n",
       "      <td>0.488425</td>\n",
       "      <td>0.542905</td>\n",
       "      <td>0.483188</td>\n",
       "      <td>0.516506</td>\n",
       "      <td>0.477917</td>\n",
       "      <td>0.480126</td>\n",
       "      <td>0.487674</td>\n",
       "      <td>0.491589</td>\n",
       "      <td>0.500467</td>\n",
       "      <td>0.475543</td>\n",
       "      <td>0.493113</td>\n",
       "      <td>0.452128</td>\n",
       "      <td>0.491892</td>\n",
       "      <td>0.432432</td>\n",
       "      <td>0.500000</td>\n",
       "    </tr>\n",
       "    <tr>\n",
       "      <th>20101229</th>\n",
       "      <td>0.524385</td>\n",
       "      <td>0.500110</td>\n",
       "      <td>0.569021</td>\n",
       "      <td>0.493001</td>\n",
       "      <td>0.535066</td>\n",
       "      <td>0.494421</td>\n",
       "      <td>0.504714</td>\n",
       "      <td>0.496200</td>\n",
       "      <td>0.457843</td>\n",
       "      <td>0.493042</td>\n",
       "      <td>0.452727</td>\n",
       "      <td>0.496798</td>\n",
       "      <td>0.449864</td>\n",
       "      <td>0.503365</td>\n",
       "      <td>0.488764</td>\n",
       "      <td>0.518919</td>\n",
       "      <td>0.500000</td>\n",
       "      <td>0.486486</td>\n",
       "    </tr>\n",
       "    <tr>\n",
       "      <th>20101230</th>\n",
       "      <td>0.611123</td>\n",
       "      <td>0.513879</td>\n",
       "      <td>0.649875</td>\n",
       "      <td>0.521865</td>\n",
       "      <td>0.615385</td>\n",
       "      <td>0.523026</td>\n",
       "      <td>0.581476</td>\n",
       "      <td>0.529951</td>\n",
       "      <td>0.550489</td>\n",
       "      <td>0.521558</td>\n",
       "      <td>0.566600</td>\n",
       "      <td>0.530784</td>\n",
       "      <td>0.542274</td>\n",
       "      <td>0.532698</td>\n",
       "      <td>0.478947</td>\n",
       "      <td>0.486486</td>\n",
       "      <td>0.513514</td>\n",
       "      <td>0.500000</td>\n",
       "    </tr>\n",
       "    <tr>\n",
       "      <th>20101231</th>\n",
       "      <td>0.595550</td>\n",
       "      <td>0.530233</td>\n",
       "      <td>0.626106</td>\n",
       "      <td>0.509939</td>\n",
       "      <td>0.597641</td>\n",
       "      <td>0.505829</td>\n",
       "      <td>0.565960</td>\n",
       "      <td>0.512209</td>\n",
       "      <td>0.518555</td>\n",
       "      <td>0.505075</td>\n",
       "      <td>0.469388</td>\n",
       "      <td>0.509107</td>\n",
       "      <td>0.468085</td>\n",
       "      <td>0.490515</td>\n",
       "      <td>0.422619</td>\n",
       "      <td>0.542234</td>\n",
       "      <td>0.342857</td>\n",
       "      <td>0.527027</td>\n",
       "    </tr>\n",
       "  </tbody>\n",
       "</table>\n",
       "</div>"
      ],
      "text/plain": [
       "          P(+|-)tick  P(+)tick  P(+|-)1s    P(+)1s  P(+|-)3s    P(+)3s  \\\n",
       "20101227    0.507582  0.485210  0.625322  0.510298  0.595684  0.508787   \n",
       "20101228    0.520866  0.486997  0.577957  0.488425  0.542905  0.483188   \n",
       "20101229    0.524385  0.500110  0.569021  0.493001  0.535066  0.494421   \n",
       "20101230    0.611123  0.513879  0.649875  0.521865  0.615385  0.523026   \n",
       "20101231    0.595550  0.530233  0.626106  0.509939  0.597641  0.505829   \n",
       "\n",
       "          P(+|-)5s    P(+)5s  P(+|-)10s   P(+)10s  P(+|-)20s   P(+)20s  \\\n",
       "20101227  0.567832  0.508422   0.552688  0.514867   0.536585  0.508756   \n",
       "20101228  0.516506  0.477917   0.480126  0.487674   0.491589  0.500467   \n",
       "20101229  0.504714  0.496200   0.457843  0.493042   0.452727  0.496798   \n",
       "20101230  0.581476  0.529951   0.550489  0.521558   0.566600  0.530784   \n",
       "20101231  0.565960  0.512209   0.518555  0.505075   0.469388  0.509107   \n",
       "\n",
       "          P(+|-)30s   P(+)30s  P(+|-)1T    P(+)1T  P(+|-)5T    P(+)5T  \n",
       "20101227   0.526462  0.514865  0.505155  0.474255  0.617647  0.534247  \n",
       "20101228   0.475543  0.493113  0.452128  0.491892  0.432432  0.500000  \n",
       "20101229   0.449864  0.503365  0.488764  0.518919  0.500000  0.486486  \n",
       "20101230   0.542274  0.532698  0.478947  0.486486  0.513514  0.500000  \n",
       "20101231   0.468085  0.490515  0.422619  0.542234  0.342857  0.527027  "
      ]
     },
     "execution_count": 11,
     "metadata": {},
     "output_type": "execute_result"
    }
   ],
   "source": [
    "df.head()\n",
    "df.tail()"
   ]
  },
  {
   "cell_type": "markdown",
   "metadata": {},
   "source": [
    "## Break down data into various periods\n"
   ]
  },
  {
   "cell_type": "code",
   "execution_count": 28,
   "metadata": {
    "collapsed": false
   },
   "outputs": [
    {
     "name": "stdout",
     "output_type": "stream",
     "text": [
      "0\n",
      "1\n",
      "2\n"
     ]
    }
   ],
   "source": [
    "Prob_df_period_wise = []\n",
    "events = ['20090101' ,'20090831',  '20091203', '20101231']\n",
    "\n",
    "for event in range (0,len(events)-1):\n",
    "    print(event)\n",
    "    Prob_df_period_wise.append( df[(df.index.astype(str) < events[event+1]) & (df.index.astype(str) > events[event])])\n"
   ]
  },
  {
   "cell_type": "code",
   "execution_count": null,
   "metadata": {
    "collapsed": true
   },
   "outputs": [],
   "source": []
  },
  {
   "cell_type": "markdown",
   "metadata": {},
   "source": [
    "## t-test analysis\n",
    "1. Paired two-sample for P(+) vs P(+|-) for various timespans\n",
    "2. Independent pair wise on various pairs of events for various timespans "
   ]
  },
  {
   "cell_type": "code",
   "execution_count": 31,
   "metadata": {
    "collapsed": false
   },
   "outputs": [
    {
     "data": {
      "text/plain": [
       "3"
      ]
     },
     "execution_count": 31,
     "metadata": {},
     "output_type": "execute_result"
    }
   ],
   "source": [
    "timespans = ['tick','1s', '3s', '5s', '10s', '20s', '30s', '1T', '5T']\n",
    "len(Prob_df_period_wise)"
   ]
  },
  {
   "cell_type": "code",
   "execution_count": 38,
   "metadata": {
    "collapsed": false,
    "scrolled": true
   },
   "outputs": [
    {
     "name": "stdout",
     "output_type": "stream",
     "text": [
      "=========Period: 0\n",
      "=========Timespan: tick\n",
      "Ttest_relResult(statistic=25.084662438354322, pvalue=5.640569846980332e-57)\n",
      "=========Timespan: 1s\n",
      "Ttest_relResult(statistic=86.50329372824099, pvalue=5.3983060414720381e-135)\n",
      "=========Timespan: 3s\n",
      "Ttest_relResult(statistic=39.829878734145417, pvalue=2.6653986179399894e-84)\n",
      "=========Timespan: 5s\n",
      "Ttest_relResult(statistic=17.348080735100176, pvalue=2.0237114246653406e-38)\n",
      "=========Timespan: 10s\n",
      "Ttest_relResult(statistic=-7.3755982519526766, pvalue=8.6883543726699117e-12)\n",
      "=========Timespan: 20s\n",
      "Ttest_relResult(statistic=-19.926082180596584, pvalue=5.8256584365828949e-45)\n",
      "=========Timespan: 30s\n",
      "Ttest_relResult(statistic=-21.642275859739154, pvalue=4.0495382478584349e-49)\n",
      "=========Timespan: 1T\n",
      "Ttest_relResult(statistic=-22.190808109890728, pvalue=2.0532753220315099e-50)\n",
      "=========Timespan: 5T\n",
      "Ttest_relResult(statistic=-6.2238868021949001, pvalue=4.1812820968361782e-09)\n",
      "=========Period: 1\n",
      "=========Timespan: tick\n",
      "Ttest_relResult(statistic=12.393130854418043, pvalue=2.6056200044729847e-18)\n",
      "=========Timespan: 1s\n",
      "Ttest_relResult(statistic=43.310344803335909, pvalue=1.6247661535597941e-47)\n",
      "=========Timespan: 3s\n",
      "Ttest_relResult(statistic=24.077724845786371, pvalue=7.5392245338107648e-33)\n",
      "=========Timespan: 5s\n",
      "Ttest_relResult(statistic=9.6308565380049256, pvalue=7.3658680735455334e-14)\n",
      "=========Timespan: 10s\n",
      "Ttest_relResult(statistic=-4.3161204257170303, pvalue=5.9235121574403415e-05)\n",
      "=========Timespan: 20s\n",
      "Ttest_relResult(statistic=-13.542846531031405, pvalue=4.8148376530324894e-20)\n",
      "=========Timespan: 30s\n",
      "Ttest_relResult(statistic=-11.905022055458758, pvalue=1.4924292496208181e-17)\n",
      "=========Timespan: 1T\n",
      "Ttest_relResult(statistic=-10.493332678487299, pvalue=2.736128925482784e-15)\n",
      "=========Timespan: 5T\n",
      "Ttest_relResult(statistic=-4.2348691704845782, pvalue=7.8397573173269889e-05)\n",
      "=========Period: 2\n",
      "=========Timespan: tick\n",
      "Ttest_relResult(statistic=28.720698871110475, pvalue=8.9015430126861532e-84)\n",
      "=========Timespan: 1s\n",
      "Ttest_relResult(statistic=76.15562054292171, pvalue=1.3875267300325609e-183)\n",
      "=========Timespan: 3s\n",
      "Ttest_relResult(statistic=40.736413536010339, pvalue=7.9777250737653167e-117)\n",
      "=========Timespan: 5s\n",
      "Ttest_relResult(statistic=18.421850875406928, pvalue=1.5864686487300354e-49)\n",
      "=========Timespan: 10s\n",
      "Ttest_relResult(statistic=-7.9416223020736645, pvalue=5.518842354902323e-14)\n",
      "=========Timespan: 20s\n",
      "Ttest_relResult(statistic=-22.188050616001128, pvalue=1.2540416463292966e-62)\n",
      "=========Timespan: 30s\n",
      "Ttest_relResult(statistic=-24.237463292175487, pvalue=1.6750016629698999e-69)\n",
      "=========Timespan: 1T\n",
      "Ttest_relResult(statistic=-23.467435581013333, pvalue=6.0627748715883474e-67)\n",
      "=========Timespan: 5T\n",
      "Ttest_relResult(statistic=-6.8260802427540082, pvalue=5.8158789443086625e-11)\n"
     ]
    }
   ],
   "source": [
    "# 1. Paired two-sample\n",
    "for period in range(0, len(Prob_df_period_wise)):\n",
    "    print(\"=========Period:\",period)\n",
    "    for timespan in timespans:\n",
    "        print(\"=========Timespan:\",timespan)\n",
    "        print(ttest_rel(Prob_df_period_wise[period]['P(+|-)'+timespan].values,Prob_df_period_wise[period]['P(+)'+timespan].values))"
   ]
  },
  {
   "cell_type": "code",
   "execution_count": 54,
   "metadata": {
    "collapsed": false,
    "scrolled": true
   },
   "outputs": [
    {
     "name": "stdout",
     "output_type": "stream",
     "text": [
      "==== timespan: tick\n",
      "==== Perio 0 vs Period 1====\n",
      "Ttest_indResult(statistic=11.679105524813352, pvalue=8.1459765907256268e-25)\n",
      "==== Perio 1 vs Period 2====\n",
      "Ttest_indResult(statistic=11.679105524813352, pvalue=8.1459765907256268e-25)\n",
      "==== Perio 0 vs Period 2====\n",
      "Ttest_indResult(statistic=11.679105524813352, pvalue=8.1459765907256268e-25)\n",
      "==== timespan: 1s\n",
      "==== Perio 0 vs Period 1====\n",
      "Ttest_indResult(statistic=45.281866778323689, pvalue=3.6176320558584532e-113)\n",
      "==== Perio 1 vs Period 2====\n",
      "Ttest_indResult(statistic=45.281866778323689, pvalue=3.6176320558584532e-113)\n",
      "==== Perio 0 vs Period 2====\n",
      "Ttest_indResult(statistic=45.281866778323689, pvalue=3.6176320558584532e-113)\n",
      "==== timespan: 3s\n",
      "==== Perio 0 vs Period 1====\n",
      "Ttest_indResult(statistic=21.472690534256973, pvalue=8.4770629019925396e-56)\n",
      "==== Perio 1 vs Period 2====\n",
      "Ttest_indResult(statistic=21.472690534256973, pvalue=8.4770629019925396e-56)\n",
      "==== Perio 0 vs Period 2====\n",
      "Ttest_indResult(statistic=21.472690534256973, pvalue=8.4770629019925396e-56)\n",
      "==== timespan: 5s\n",
      "==== Perio 0 vs Period 1====\n",
      "Ttest_indResult(statistic=9.7131039361975944, pvalue=8.9465714244206251e-19)\n",
      "==== Perio 1 vs Period 2====\n",
      "Ttest_indResult(statistic=9.7131039361975944, pvalue=8.9465714244206251e-19)\n",
      "==== Perio 0 vs Period 2====\n",
      "Ttest_indResult(statistic=9.7131039361975944, pvalue=8.9465714244206251e-19)\n",
      "==== timespan: 10s\n",
      "==== Perio 0 vs Period 1====\n",
      "Ttest_indResult(statistic=-2.9873379111903069, pvalue=0.0031348538332521929)\n",
      "==== Perio 1 vs Period 2====\n",
      "Ttest_indResult(statistic=-2.9873379111903069, pvalue=0.0031348538332521929)\n",
      "==== Perio 0 vs Period 2====\n",
      "Ttest_indResult(statistic=-2.9873379111903069, pvalue=0.0031348538332521929)\n",
      "==== timespan: 20s\n",
      "==== Perio 0 vs Period 1====\n",
      "Ttest_indResult(statistic=-8.7574985120592341, pvalue=5.4983406571586983e-16)\n",
      "==== Perio 1 vs Period 2====\n",
      "Ttest_indResult(statistic=-8.7574985120592341, pvalue=5.4983406571586983e-16)\n",
      "==== Perio 0 vs Period 2====\n",
      "Ttest_indResult(statistic=-8.7574985120592341, pvalue=5.4983406571586983e-16)\n",
      "==== timespan: 30s\n",
      "==== Perio 0 vs Period 1====\n",
      "Ttest_indResult(statistic=-9.3154510240004456, pvalue=1.3384444251269895e-17)\n",
      "==== Perio 1 vs Period 2====\n",
      "Ttest_indResult(statistic=-9.3154510240004456, pvalue=1.3384444251269895e-17)\n",
      "==== Perio 0 vs Period 2====\n",
      "Ttest_indResult(statistic=-9.3154510240004456, pvalue=1.3384444251269895e-17)\n",
      "==== timespan: 1T\n",
      "==== Perio 0 vs Period 1====\n",
      "Ttest_indResult(statistic=-8.4167186047700646, pvalue=5.0511116457251918e-15)\n",
      "==== Perio 1 vs Period 2====\n",
      "Ttest_indResult(statistic=-8.4167186047700646, pvalue=5.0511116457251918e-15)\n",
      "==== Perio 0 vs Period 2====\n",
      "Ttest_indResult(statistic=-8.4167186047700646, pvalue=5.0511116457251918e-15)\n",
      "==== timespan: 5T\n",
      "==== Perio 0 vs Period 1====\n",
      "Ttest_indResult(statistic=-1.264546279562887, pvalue=0.2073781016126012)\n",
      "==== Perio 1 vs Period 2====\n",
      "Ttest_indResult(statistic=-1.264546279562887, pvalue=0.2073781016126012)\n",
      "==== Perio 0 vs Period 2====\n",
      "Ttest_indResult(statistic=-1.264546279562887, pvalue=0.2073781016126012)\n"
     ]
    }
   ],
   "source": [
    "# 2. Independent two-sample across periods\n",
    "for timespan in timespans:\n",
    "    print(\"==== timespan:\", timespan)\n",
    "    \n",
    "    print(\"==== Perio 0 vs Period 1====\")\n",
    "    print(ttest_ind(Prob_df_period_wise[0]['P(+|-)'+timespan].values,Prob_df_period_wise[1]['P(+)'+timespan].values))\n",
    "    print(\"==== Perio 1 vs Period 2====\")\n",
    "    print(ttest_ind(Prob_df_period_wise[0]['P(+|-)'+timespan].values,Prob_df_period_wise[1]['P(+)'+timespan].values))\n",
    "    print(\"==== Perio 0 vs Period 2====\")\n",
    "    print(ttest_ind(Prob_df_period_wise[0]['P(+|-)'+timespan].values,Prob_df_period_wise[1]['P(+)'+timespan].values))\n",
    "\n",
    "\n",
    "\n",
    "\n",
    "\n"
   ]
  },
  {
   "cell_type": "code",
   "execution_count": null,
   "metadata": {
    "collapsed": true
   },
   "outputs": [],
   "source": []
  },
  {
   "cell_type": "code",
   "execution_count": null,
   "metadata": {
    "collapsed": true
   },
   "outputs": [],
   "source": []
  },
  {
   "cell_type": "markdown",
   "metadata": {},
   "source": [
    "### Backup\n",
    "\n",
    "Box plots, period wise"
   ]
  },
  {
   "cell_type": "code",
   "execution_count": 53,
   "metadata": {
    "collapsed": false
   },
   "outputs": [
    {
     "data": {
      "text/plain": [
       "<matplotlib.axes._subplots.AxesSubplot at 0x1213eef28>"
      ]
     },
     "metadata": {},
     "output_type": "display_data"
    },
    {
     "data": {
      "image/png": "[encoded data removed]",
      "text/plain": [
       "<matplotlib.figure.Figure at 0x120c20668>"
      ]
     },
     "metadata": {},
     "output_type": "display_data"
    },
    {
     "data": {
      "text/plain": [
       "<matplotlib.axes._subplots.AxesSubplot at 0x120f29ba8>"
      ]
     },
     "metadata": {},
     "output_type": "display_data"
    },
    {
     "data": {
      "image/png": "[encoded data removed]",
      "text/plain": [
       "<matplotlib.figure.Figure at 0x120f02550>"
      ]
     },
     "metadata": {},
     "output_type": "display_data"
    },
    {
     "data": {
      "text/plain": [
       "<matplotlib.axes._subplots.AxesSubplot at 0x120f3d9b0>"
      ]
     },
     "metadata": {},
     "output_type": "display_data"
    },
    {
     "data": {
      "image/png": "[encoded data removed]",
      "text/plain": [
       "<matplotlib.figure.Figure at 0x120ebcdd8>"
      ]
     },
     "metadata": {},
     "output_type": "display_data"
    }
   ],
   "source": [
    "display(Prob_df_period_wise[0].boxplot())\n",
    "plt.show()\n",
    "display(Prob_df_period_wise[1].boxplot())\n",
    "plt.show()\n",
    "display(Prob_df_period_wise[2].boxplot())\n",
    "plt.show()"
   ]
  },
  {
   "cell_type": "code",
   "execution_count": null,
   "metadata": {
    "collapsed": true
   },
   "outputs": [],
   "source": []
  }
 ],
 "metadata": {
  "kernelspec": {
   "display_name": "Python 3",
   "language": "python",
   "name": "python3"
  },
  "language_info": {
   "codemirror_mode": {
    "name": "ipython",
    "version": 3
   },
   "file_extension": ".py",
   "mimetype": "text/x-python",
   "name": "python",
   "nbconvert_exporter": "python",
   "pygments_lexer": "ipython3",
   "version": "3.5.4"
  }
 },
 "nbformat": 4,
 "nbformat_minor": 0
}
